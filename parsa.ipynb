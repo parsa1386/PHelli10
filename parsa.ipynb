{
  "nbformat": 4,
  "nbformat_minor": 0,
  "metadata": {
    "colab": {
      "name": "parsa.ipynb",
      "provenance": [],
      "include_colab_link": true
    },
    "kernelspec": {
      "name": "python3",
      "display_name": "Python 3"
    }
  },
  "cells": [
    {
      "cell_type": "markdown",
      "metadata": {
        "id": "view-in-github",
        "colab_type": "text"
      },
      "source": [
        "<a href=\"https://colab.research.google.com/github/parsa1386/PHelli10/blob/master/parsa.ipynb\" target=\"_parent\"><img src=\"https://colab.research.google.com/assets/colab-badge.svg\" alt=\"Open In Colab\"/></a>"
      ]
    },
    {
      "cell_type": "code",
      "metadata": {
        "id": "8sLOOfwHzP7T",
        "colab_type": "code",
        "colab": {
          "base_uri": "https://localhost:8080/",
          "height": 85
        },
        "outputId": "d95fe4ec-211f-4573-ae18-bdde328570af"
      },
      "source": [
        "c1=\"akbar\"\n",
        "c2='asghar'\n",
        "k=0\n",
        "g=0\n",
        "p=input(\"your post:\\n\")\n",
        "x=p.split(' ')\n",
        "for i in range(len(x)):\n",
        "    if x [i]==c1:\n",
        "      k=k+1\n",
        "    if x [i]==c2:\n",
        "      g=g+1\n",
        "print(\"akbar:\",k,\"asghar:\",g)\n",
        "if k < g:\n",
        "    print(\"asghar is the president\")\n",
        "if k > g:\n",
        "    print(\"akbar is the president\")\n",
        "if k == g:\n",
        "    print(\"draw\")\n"
      ],
      "execution_count": 10,
      "outputs": [
        {
          "output_type": "stream",
          "text": [
            "your post:\n",
            "akbar\n",
            "akbar: 1 asghar: 0\n",
            "akbar is the president\n"
          ],
          "name": "stdout"
        }
      ]
    }
  ]
}